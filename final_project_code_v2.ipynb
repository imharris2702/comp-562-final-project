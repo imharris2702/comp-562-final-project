{
 "cells": [
  {
   "cell_type": "code",
   "execution_count": 34,
   "id": "6b55b57b",
   "metadata": {},
   "outputs": [],
   "source": [
    "import pandas as pd\n",
    "import numpy as np\n",
    "import os\n",
    "from sklearn.metrics import accuracy_score, precision_score, recall_score, f1_score, mean_absolute_error, r2_score\n",
    "import torch\n",
    "from sklearn.decomposition import PCA\n",
    "from sklearn.preprocessing import OneHotEncoder\n",
    "import torch.nn.functional as F\n",
    "import torchvision.datasets as datasets\n",
    "import torchvision.transforms as transforms\n",
    "from torch import optim\n",
    "from torch import nn\n",
    "from torch.utils.data import DataLoader\n",
    "from torch.utils.data import Dataset, DataLoader\n",
    "from sklearn.model_selection import train_test_split\n",
    "from sklearn.preprocessing import normalize\n",
    "from sklearn.preprocessing import MinMaxScaler, RobustScaler, StandardScaler\n",
    "from pandas.api.types import is_numeric_dtype\n",
    "import matplotlib.pyplot as plt\n",
    "import seaborn as sns\n",
    "from sklearn.preprocessing import normalize"
   ]
  },
  {
   "cell_type": "markdown",
   "id": "7cb63bc0",
   "metadata": {},
   "source": [
    "# Preprocessing data with no normalizing"
   ]
  },
  {
   "cell_type": "code",
   "execution_count": 16,
   "id": "2fed3df5",
   "metadata": {},
   "outputs": [],
   "source": [
    "#load data\n",
    "data = pd.read_csv('train.csv')\n",
    "\n",
    "#drop id nad misc features\n",
    "data = data.drop(columns = ['Id', 'MiscFeature', 'MiscVal'])\n",
    "\n",
    "#separate into x and y\n",
    "x_columns = [col for col in data.columns if col != 'SalePrice']\n",
    "x = data[x_columns]\n",
    "y = data['SalePrice']\n",
    "\n",
    "#preprocess categorical variables by lable encoding\n",
    "x = x.fillna(0)\n",
    "categorical_var =['MSZoning', 'Street', 'Alley', 'LotShape', 'LandContour', 'Utilities','LotConfig','LandSlope','Neighborhood','Condition1',\n",
    "'Condition2', 'BldgType', 'HouseStyle', 'RoofStyle', 'RoofMatl','Exterior1st', 'Exterior2nd','MasVnrType','ExterQual',\n",
    "'ExterCond', 'Foundation', 'BsmtQual', 'BsmtCond', 'BsmtExposure','BsmtFinType1','BsmtFinType2', 'Heating', 'HeatingQC', \n",
    "'CentralAir', 'Electrical', 'KitchenQual', 'Functional', 'FireplaceQu', 'GarageType', 'GarageFinish', 'GarageQual', \n",
    "'GarageCond', 'PavedDrive','PoolQC','Fence','SaleType','SaleCondition']\n",
    "for i in categorical_var:\n",
    "    x[i] = x[i].astype('category')\n",
    "    x[i] = x[i].cat.codes\n",
    "\n",
    "#dropping all features with correlation < 0.1\n",
    "col_drop = []\n",
    "for (columnName, columnData) in x.items():\n",
    "    correlation = abs(x[columnName].corr(y))\n",
    "    if correlation < 0.1:\n",
    "        col_drop.append(columnName)\n",
    "x = x.drop(columns = col_drop)\n",
    "\n",
    "\n",
    "#split data\n",
    "df_train_x, df_test_x, df_train_y, df_test_y = train_test_split(x, y, test_size=0.2)"
   ]
  },
  {
   "cell_type": "code",
   "execution_count": 17,
   "id": "6fb1e279",
   "metadata": {},
   "outputs": [],
   "source": [
    "train_x = df_train_x.to_numpy(dtype='float32')\n",
    "train_y = df_train_y.to_numpy(dtype='float32')\n",
    "test_x = df_test_x.to_numpy(dtype='float32')\n",
    "test_y = df_test_y.to_numpy(dtype='float32')"
   ]
  },
  {
   "cell_type": "markdown",
   "id": "05984105",
   "metadata": {},
   "source": [
    "## Linear Regression\n",
    "\n",
    "Build and predict on a basic linear model"
   ]
  },
  {
   "cell_type": "code",
   "execution_count": 18,
   "id": "fb9647a1",
   "metadata": {},
   "outputs": [
    {
     "name": "stdout",
     "output_type": "stream",
     "text": [
      "Mean absolute error = 19855.310546875\n",
      "Accuracy: 0.8701127982394099\n"
     ]
    }
   ],
   "source": [
    "from sklearn.linear_model import LinearRegression\n",
    "\n",
    "# Create model\n",
    "linear_regr_model = LinearRegression()\n",
    "\n",
    "# Train model\n",
    "linear_regr_model.fit(train_x, train_y)\n",
    "\n",
    "# Predict with model\n",
    "linear_regr_pred = linear_regr_model.predict(test_x)\n",
    "\n",
    "# Calculate and print mean absolute error\n",
    "linear_regr_error = mean_absolute_error(test_y, linear_regr_pred)\n",
    "linear_regr_accuracy = r2_score(test_y, linear_regr_pred)\n",
    "print(f\"Mean absolute error = {linear_regr_error}\")\n",
    "print(f\"Accuracy: {linear_regr_accuracy}\")"
   ]
  },
  {
   "cell_type": "markdown",
   "id": "df80c465",
   "metadata": {},
   "source": [
    "## Ridge Regression\n",
    "\n",
    "Build and predict using a ridge regression model"
   ]
  },
  {
   "cell_type": "code",
   "execution_count": 19,
   "id": "f7527d0d",
   "metadata": {},
   "outputs": [
    {
     "name": "stdout",
     "output_type": "stream",
     "text": [
      "Alpha chosen: 50\n",
      "Mean absolute error: 19540.888671875\n",
      "Accuracy: 0.8715720368258242\n"
     ]
    }
   ],
   "source": [
    "from sklearn.linear_model import Ridge\n",
    "#Suppress warning that arised due to lack of normalization\n",
    "import warnings\n",
    "warnings.filterwarnings('ignore')\n",
    "\n",
    "def train_ridge_model(alphas, train_x, train_y, test_x, test_y) -> [Ridge, float]:\n",
    "    '''Train a ridge model that performs best given an array of alphas'''\n",
    "    import sys\n",
    "    model: Ridge\n",
    "    lowest_error = sys.float_info.max\n",
    "    max_accuracy = 0\n",
    "    for alpha in alphas:\n",
    "        test_model = Ridge(alpha=alpha)\n",
    "        test_model.fit(train_x, train_y)\n",
    "        predictions = test_model.predict(test_x)\n",
    "        accuracy = r2_score(test_y, predictions)\n",
    "        error = mean_absolute_error(test_y, predictions)\n",
    "        if (accuracy > max_accuracy):\n",
    "            max_accuracy = accuracy\n",
    "            model = test_model\n",
    "            lowest_error = error\n",
    "    return model, max_accuracy, lowest_error\n",
    "\n",
    "\n",
    "alphas = [0.5, 1, 5, 10, 15, 20, 25, 30, 35, 40, 45, 50]\n",
    "ridge_model, ridge_accuracy, ridge_error = train_ridge_model(alphas, train_x, train_y, test_x, test_y)\n",
    "\n",
    "print(f\"Alpha chosen: {ridge_model.alpha}\")\n",
    "print(f\"Mean absolute error: {ridge_error}\")\n",
    "print(f\"Accuracy: {ridge_accuracy}\")"
   ]
  },
  {
   "cell_type": "markdown",
   "id": "c3314b2f",
   "metadata": {},
   "source": [
    "## Lasso Regression\n",
    "\n",
    "Build and predict using a lasso model"
   ]
  },
  {
   "cell_type": "code",
   "execution_count": 20,
   "id": "e7847017",
   "metadata": {},
   "outputs": [
    {
     "name": "stdout",
     "output_type": "stream",
     "text": [
      "Alpha chosen: 95\n",
      "Mean absolute error: 19712.19921875\n",
      "Accuracy: 0.8713694396570028\n"
     ]
    }
   ],
   "source": [
    "from sklearn.linear_model import Lasso\n",
    "#Suppress warning that arised due to lack of normalization\n",
    "import warnings\n",
    "warnings.filterwarnings('ignore')\n",
    "\n",
    "def train_lasso_model(alphas, train_x, train_y, test_x, test_y) -> [Lasso, float]:\n",
    "    '''Train a lasso model that performs best given an array of alphas'''\n",
    "    import sys\n",
    "    model: Lasso\n",
    "    lowest_error = sys.float_info.max\n",
    "    max_accuracy = 0\n",
    "    for alpha in alphas:\n",
    "        test_model = Lasso(alpha=alpha)\n",
    "        test_model.fit(train_x, train_y)\n",
    "        predictions = test_model.predict(test_x)\n",
    "        accuracy = r2_score(test_y, predictions)\n",
    "        error = mean_absolute_error(test_y, predictions)\n",
    "        if (accuracy > max_accuracy):\n",
    "            max_accuracy = accuracy\n",
    "            model = test_model\n",
    "            lowest_error = error\n",
    "    return model, max_accuracy, lowest_error\n",
    "\n",
    "\n",
    "alphas.extend(range(55, 100, 5))\n",
    "lasso_model, lasso_accuracy, lasso_error = train_lasso_model(alphas, train_x, train_y, test_x, test_y)\n",
    "\n",
    "print(f\"Alpha chosen: {lasso_model.alpha}\")\n",
    "print(f\"Mean absolute error: {lasso_error}\")\n",
    "print(f\"Accuracy: {lasso_accuracy}\")"
   ]
  },
  {
   "cell_type": "markdown",
   "id": "c23024ce",
   "metadata": {},
   "source": [
    "# Preprocessing data with Normalization"
   ]
  },
  {
   "cell_type": "code",
   "execution_count": 45,
   "id": "adf50f64",
   "metadata": {},
   "outputs": [],
   "source": [
    "#find numerical features\n",
    "numerical_features = []\n",
    "for (colName, colData) in df_train_x.items():\n",
    "    if is_numeric_dtype(colData):\n",
    "        numerical_features.append(colName)\n",
    "        \n",
    "#normalizing only numerical features\n",
    "scaler = StandardScaler()              #RobustScaler, MinMaxScaler\n",
    "    \n",
    "df_train_x[numerical_features] = scaler.fit_transform(df_train_x[numerical_features])\n",
    "df_test_x[numerical_features] = scaler.transform(df_test_x[numerical_features])  "
   ]
  },
  {
   "cell_type": "code",
   "execution_count": 46,
   "id": "1ee38539",
   "metadata": {},
   "outputs": [],
   "source": [
    "norm_train_x = df_train_x.to_numpy(dtype='float32')\n",
    "norm_train_y = df_train_y.to_numpy(dtype='float32')\n",
    "norm_test_x = df_test_x.to_numpy(dtype='float32')\n",
    "norm_test_y = df_test_y.to_numpy(dtype='float32')"
   ]
  },
  {
   "cell_type": "code",
   "execution_count": 50,
   "id": "f3481f37",
   "metadata": {},
   "outputs": [
    {
     "name": "stdout",
     "output_type": "stream",
     "text": [
      "Mean absolute error = 19836.626953125\n",
      "Accuracy: 0.8702047528878749\n"
     ]
    }
   ],
   "source": [
    "# Create model\n",
    "norm_linear_regr_model = LinearRegression()\n",
    "\n",
    "# Train model\n",
    "norm_linear_regr_model.fit(norm_train_x, train_y)\n",
    "\n",
    "# Predict with model\n",
    "norm_linear_regr_pred = norm_linear_regr_model.predict(norm_test_x)\n",
    "\n",
    "# Calculate and print mean absolute error\n",
    "norm_linear_regr_error = mean_absolute_error(test_y, norm_linear_regr_pred)\n",
    "norm_linear_regr_accuracy = r2_score(test_y, norm_linear_regr_pred)\n",
    "print(f\"Mean absolute error = {norm_linear_regr_error}\")\n",
    "print(f\"Accuracy: {norm_linear_regr_accuracy}\")"
   ]
  },
  {
   "cell_type": "markdown",
   "id": "d9d48962",
   "metadata": {},
   "source": [
    "## Ridge Regression\n",
    "\n",
    "Build and predict using a ridge regression model"
   ]
  },
  {
   "cell_type": "code",
   "execution_count": 51,
   "id": "0fe7fb79",
   "metadata": {},
   "outputs": [
    {
     "name": "stdout",
     "output_type": "stream",
     "text": [
      "Alpha chosen: 90\n",
      "Mean absolute error: 19188.08203125\n",
      "Accuracy: 0.8717353570976965\n"
     ]
    }
   ],
   "source": [
    "norm_ridge_model, norm_ridge_accuracy, norm_ridge_error = train_ridge_model(alphas, norm_train_x, train_y, norm_test_x, test_y)\n",
    "\n",
    "print(f\"Alpha chosen: {norm_ridge_model.alpha}\")\n",
    "print(f\"Mean absolute error: {norm_ridge_error}\")\n",
    "print(f\"Accuracy: {norm_ridge_accuracy}\")"
   ]
  },
  {
   "cell_type": "markdown",
   "id": "ebffb4f5",
   "metadata": {},
   "source": [
    "## Lasso Regression\n",
    "\n",
    "Build and predict using a lasso model"
   ]
  },
  {
   "cell_type": "code",
   "execution_count": 49,
   "id": "f0c5a843",
   "metadata": {},
   "outputs": [
    {
     "name": "stdout",
     "output_type": "stream",
     "text": [
      "Alpha chosen: 95\n",
      "Mean absolute error: 19675.1171875\n",
      "Accuracy: 0.8711388633573841\n"
     ]
    }
   ],
   "source": [
    "norm_lasso_model, norm_lasso_accuracy, norm_lasso_error = train_lasso_model(alphas, norm_train_x, train_y, norm_test_x, test_y)\n",
    "\n",
    "print(f\"Alpha chosen: {norm_lasso_model.alpha}\")\n",
    "print(f\"Mean absolute error: {norm_lasso_error}\")\n",
    "print(f\"Accuracy: {norm_lasso_accuracy}\")"
   ]
  },
  {
   "cell_type": "markdown",
   "id": "1110d54f",
   "metadata": {},
   "source": [
    "# Convolutional Neural Network"
   ]
  },
  {
   "cell_type": "code",
   "execution_count": 26,
   "id": "18b445ec",
   "metadata": {},
   "outputs": [],
   "source": [
    "class Model(nn.Module):\n",
    "    def __init__(self):\n",
    "        super(Model, self).__init__()\n",
    "        \n",
    "        self.layer1 = nn.Sequential(\n",
    "            nn.Conv1d(1, 16, kernel_size=3, padding=1),   # 54, 16\n",
    "            nn.ReLU(inplace=True), \n",
    "            nn.Conv1d(16, 16, kernel_size=3, padding=1),  \n",
    "            nn.ReLU(inplace=True),\n",
    "            nn.MaxPool1d(kernel_size=2, stride=2)         # 27, 16\n",
    "        )\n",
    "\n",
    "        self.layer2 = nn.Sequential(\n",
    "            nn.Conv1d(16, 32, kernel_size=3, padding=1),           \n",
    "            nn.ReLU(inplace=True),\n",
    "            nn.Conv1d(32, 32, kernel_size=3, padding=1),           \n",
    "            nn.ReLU(inplace=True),\n",
    "            nn.MaxPool1d(kernel_size=2, stride=2),          #13, 32       \n",
    "        )\n",
    "\n",
    "        self.layer3 = nn.Sequential(\n",
    "            nn.Conv1d(32, 64, kernel_size=3, padding=1),           \n",
    "            nn.ReLU(inplace=True),\n",
    "            nn.Conv1d(64, 64, kernel_size=3, padding=1),           \n",
    "            nn.ReLU(inplace=True),\n",
    "            nn.MaxPool1d(kernel_size=2, stride=2),                #6, 64\n",
    "        )\n",
    "        \n",
    "        self.layer4 = nn.Sequential(\n",
    "            nn.Conv1d(64, 128, kernel_size=3, padding=1),        \n",
    "            nn.ReLU(inplace=True),\n",
    "            nn.Conv1d(128, 128, kernel_size=3, padding=1),       \n",
    "            nn.ReLU(inplace=True),\n",
    "            nn.MaxPool1d(kernel_size=2, stride=2)              #3 128  \n",
    "        )\n",
    "        \n",
    "        \n",
    "        self.fc = nn.Sequential(\n",
    "            nn.Linear(384, 128),                                 \n",
    "            nn.ReLU(inplace=True),\n",
    "            nn.Dropout(p=0.5),\n",
    "            nn.Linear(128, 1),\n",
    "\n",
    "        )\n",
    "\n",
    "    def forward(self, x):\n",
    "        x = x.unsqueeze(1)\n",
    "        x = self.layer1(x)\n",
    "        x = self.layer2(x)\n",
    "        x = self.layer3(x)\n",
    "        x = self.layer4(x)\n",
    "        x = x.view(x.size(0), -1)\n",
    "        x = self.fc(x)\n",
    "        return x\n",
    " "
   ]
  },
  {
   "cell_type": "code",
   "execution_count": 27,
   "id": "fed8e26a",
   "metadata": {},
   "outputs": [],
   "source": [
    "class LoadDataset(Dataset):\n",
    "    def __init__(self, X, Y):\n",
    "        self.X = X\n",
    "        self.Y = Y\n",
    "\n",
    "    def __len__(self):\n",
    "        return self.X.shape[0]\n",
    "\n",
    "    def __getitem__(self, index):\n",
    "        dataX = torch.tensor(self.X[index]).type(torch.float)\n",
    "        dataY = torch.tensor(self.Y[index]).type(torch.float)\n",
    "\n",
    "        return (dataX, dataY)"
   ]
  },
  {
   "cell_type": "code",
   "execution_count": 31,
   "id": "be94d8ca",
   "metadata": {},
   "outputs": [],
   "source": [
    "train_data = LoadDataset(train_x, train_y)\n",
    "test_data = LoadDataset(test_x, test_y)\n",
    "train_loader = DataLoader(dataset=train_data, batch_size=100, shuffle=True, drop_last=True)\n",
    "test_loader = DataLoader(dataset=test_data, batch_size=100)\n",
    "model = Model()\n",
    "criterion = nn.MSELoss()\n",
    "optimizer = optim.Adam(model.parameters(), lr=0.0001)\n",
    "for epoch in range(30):\n",
    "    for batch_idx, (data, targets) in enumerate(train_loader):\n",
    "        data.requires_grad_()\n",
    "        scores = model(data)\n",
    "        scores = scores.view(targets.size())\n",
    "        loss = criterion(scores, targets)\n",
    "        optimizer.zero_grad()\n",
    "        loss.backward()\n",
    "        optimizer.step()"
   ]
  },
  {
   "cell_type": "code",
   "execution_count": 32,
   "id": "3136efbe",
   "metadata": {},
   "outputs": [
    {
     "name": "stdout",
     "output_type": "stream",
     "text": [
      "0.3666068317661771\n",
      "41537.875\n"
     ]
    }
   ],
   "source": [
    "running_accuracy = 0\n",
    "running_MAE = 0\n",
    "num_batches = 0\n",
    "model.eval()\n",
    "criterion = nn.L1Loss()\n",
    "with torch.no_grad():\n",
    "    for batch_idx, (data, targets) in enumerate(test_loader):\n",
    "        # forward\n",
    "        scores = model(data)\n",
    "        scores = scores.view(targets.size()) \n",
    "        accuracy = r2_score(targets, scores)\n",
    "        running_accuracy += accuracy.item()\n",
    "        MAE = criterion(scores, targets)\n",
    "        running_MAE += MAE.item()\n",
    "        num_batches+=1\n",
    "accuracy_final = running_accuracy/num_batches\n",
    "MAE_final = running_MAE/num_batches\n",
    "print(accuracy_final)\n",
    "print(MAE_final)"
   ]
  },
  {
   "cell_type": "code",
   "execution_count": null,
   "id": "eab91331",
   "metadata": {},
   "outputs": [],
   "source": []
  }
 ],
 "metadata": {
  "kernelspec": {
   "display_name": "Python 3 (ipykernel)",
   "language": "python",
   "name": "python3"
  },
  "language_info": {
   "codemirror_mode": {
    "name": "ipython",
    "version": 3
   },
   "file_extension": ".py",
   "mimetype": "text/x-python",
   "name": "python",
   "nbconvert_exporter": "python",
   "pygments_lexer": "ipython3",
   "version": "3.9.9"
  }
 },
 "nbformat": 4,
 "nbformat_minor": 5
}
