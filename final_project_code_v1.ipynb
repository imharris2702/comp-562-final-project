{
 "cells": [
  {
   "cell_type": "code",
   "execution_count": 40,
   "id": "6b55b57b",
   "metadata": {},
   "outputs": [],
   "source": [
    "import pandas as pd\n",
    "import numpy as np\n",
    "import os\n",
    "from sklearn.metrics import accuracy_score, precision_score, recall_score, f1_score, mean_absolute_error, r2_score\n",
    "import torch\n",
    "from sklearn.decomposition import PCA\n",
    "from sklearn.preprocessing import OneHotEncoder\n",
    "import torch.nn.functional as F\n",
    "import torchvision.datasets as datasets\n",
    "import torchvision.transforms as transforms\n",
    "from torch import optim\n",
    "from torch import nn\n",
    "from torch.utils.data import DataLoader\n",
    "from torch.utils.data import Dataset, DataLoader\n",
    "from sklearn.model_selection import train_test_split\n",
    "from sklearn.preprocessing import normalize\n",
    "from sklearn.preprocessing import MinMaxScaler"
   ]
  },
  {
   "cell_type": "markdown",
   "id": "7cb63bc0",
   "metadata": {},
   "source": [
    "# Preprocessing data with no normalizing"
   ]
  },
  {
   "cell_type": "code",
   "execution_count": 41,
   "id": "2fed3df5",
   "metadata": {},
   "outputs": [],
   "source": [
    "#load data\n",
    "data = pd.read_csv('data/train.csv')\n",
    "\n",
    "#drop id nad misc features\n",
    "data = data.drop(columns = ['Id', 'MiscFeature', 'MiscVal'])\n",
    "\n",
    "#separate into x and y\n",
    "x_columns = [col for col in data.columns if col != 'SalePrice']\n",
    "x = data[x_columns]\n",
    "y = data['SalePrice']\n",
    "\n",
    "#preprocess categorical variables by lable encoding\n",
    "x = x.fillna(0)\n",
    "categorical_var =['MSZoning', 'Street', 'Alley', 'LotShape', 'LandContour', 'Utilities','LotConfig','LandSlope','Neighborhood','Condition1',\n",
    "'Condition2', 'BldgType', 'HouseStyle', 'RoofStyle', 'RoofMatl','Exterior1st', 'Exterior2nd','MasVnrType','ExterQual',\n",
    "'ExterCond', 'Foundation', 'BsmtQual', 'BsmtCond', 'BsmtExposure','BsmtFinType1','BsmtFinType2', 'Heating', 'HeatingQC', \n",
    "'CentralAir', 'Electrical', 'KitchenQual', 'Functional', 'FireplaceQu', 'GarageType', 'GarageFinish', 'GarageQual', \n",
    "'GarageCond', 'PavedDrive','PoolQC','Fence','SaleType','SaleCondition']\n",
    "for i in categorical_var:\n",
    "    x[i] = x[i].astype('category')\n",
    "    x[i] = x[i].cat.codes\n",
    "\n",
    "#split data\n",
    "train_x, test_x, train_y, test_y = train_test_split(x, y, test_size=0.2)\n",
    "train_x = train_x.to_numpy(dtype='float32')\n",
    "train_y = train_y.to_numpy(dtype='float32')\n",
    "test_x = test_x.to_numpy(dtype='float32')\n",
    "test_y = test_y.to_numpy(dtype='float32')"
   ]
  },
  {
   "cell_type": "markdown",
   "id": "05984105",
   "metadata": {},
   "source": [
    "## Linear Regression\n",
    "\n",
    "Build and predict on a basic linear model"
   ]
  },
  {
   "cell_type": "code",
   "execution_count": 43,
   "id": "fb9647a1",
   "metadata": {},
   "outputs": [
    {
     "name": "stdout",
     "output_type": "stream",
     "text": [
      "Mean absolute error = 19801.986328125\n",
      "Accuracy: 0.8667165760581995\n"
     ]
    }
   ],
   "source": [
    "from sklearn.linear_model import LinearRegression\n",
    "\n",
    "# Create model\n",
    "linear_regr_model = LinearRegression()\n",
    "\n",
    "# Train model\n",
    "linear_regr_model.fit(train_x, train_y)\n",
    "\n",
    "# Predict with model\n",
    "linear_regr_pred = linear_regr_model.predict(test_x)\n",
    "\n",
    "# Calculate and print mean absolute error\n",
    "linear_regr_error = mean_absolute_error(test_y, linear_regr_pred)\n",
    "linear_regr_accuracy = r2_score(test_y, linear_regr_pred)\n",
    "print(f\"Mean absolute error = {linear_regr_error}\")\n",
    "print(f\"Accuracy: {linear_regr_accuracy}\")"
   ]
  },
  {
   "cell_type": "markdown",
   "id": "df80c465",
   "metadata": {},
   "source": [
    "## Ridge Regression\n",
    "\n",
    "Build and predict using a ridge regression model"
   ]
  },
  {
   "cell_type": "code",
   "execution_count": 44,
   "id": "f7527d0d",
   "metadata": {},
   "outputs": [
    {
     "name": "stdout",
     "output_type": "stream",
     "text": [
      "Alpha chosen: 95\n",
      "Mean absolute error: 19121.017578125\n",
      "Accuracy: 0.8696934717020445\n"
     ]
    },
    {
     "name": "stderr",
     "output_type": "stream",
     "text": [
      "C:\\Users\\jedik\\anaconda3\\lib\\site-packages\\sklearn\\linear_model\\_ridge.py:157: LinAlgWarning: Ill-conditioned matrix (rcond=8.93161e-12): result may not be accurate.\n",
      "  return linalg.solve(A, Xy, sym_pos=True, overwrite_a=True).T\n",
      "C:\\Users\\jedik\\anaconda3\\lib\\site-packages\\sklearn\\linear_model\\_ridge.py:157: LinAlgWarning: Ill-conditioned matrix (rcond=1.21684e-11): result may not be accurate.\n",
      "  return linalg.solve(A, Xy, sym_pos=True, overwrite_a=True).T\n",
      "C:\\Users\\jedik\\anaconda3\\lib\\site-packages\\sklearn\\linear_model\\_ridge.py:157: LinAlgWarning: Ill-conditioned matrix (rcond=7.07564e-11): result may not be accurate.\n",
      "  return linalg.solve(A, Xy, sym_pos=True, overwrite_a=True).T\n",
      "C:\\Users\\jedik\\anaconda3\\lib\\site-packages\\sklearn\\linear_model\\_ridge.py:157: LinAlgWarning: Ill-conditioned matrix (rcond=1.0348e-10): result may not be accurate.\n",
      "  return linalg.solve(A, Xy, sym_pos=True, overwrite_a=True).T\n",
      "C:\\Users\\jedik\\anaconda3\\lib\\site-packages\\sklearn\\linear_model\\_ridge.py:157: LinAlgWarning: Ill-conditioned matrix (rcond=1.36294e-10): result may not be accurate.\n",
      "  return linalg.solve(A, Xy, sym_pos=True, overwrite_a=True).T\n",
      "C:\\Users\\jedik\\anaconda3\\lib\\site-packages\\sklearn\\linear_model\\_ridge.py:157: LinAlgWarning: Ill-conditioned matrix (rcond=1.69184e-10): result may not be accurate.\n",
      "  return linalg.solve(A, Xy, sym_pos=True, overwrite_a=True).T\n",
      "C:\\Users\\jedik\\anaconda3\\lib\\site-packages\\sklearn\\linear_model\\_ridge.py:157: LinAlgWarning: Ill-conditioned matrix (rcond=1.97283e-10): result may not be accurate.\n",
      "  return linalg.solve(A, Xy, sym_pos=True, overwrite_a=True).T\n",
      "C:\\Users\\jedik\\anaconda3\\lib\\site-packages\\sklearn\\linear_model\\_ridge.py:157: LinAlgWarning: Ill-conditioned matrix (rcond=1.91896e-10): result may not be accurate.\n",
      "  return linalg.solve(A, Xy, sym_pos=True, overwrite_a=True).T\n",
      "C:\\Users\\jedik\\anaconda3\\lib\\site-packages\\sklearn\\linear_model\\_ridge.py:157: LinAlgWarning: Ill-conditioned matrix (rcond=1.7176e-10): result may not be accurate.\n",
      "  return linalg.solve(A, Xy, sym_pos=True, overwrite_a=True).T\n",
      "C:\\Users\\jedik\\anaconda3\\lib\\site-packages\\sklearn\\linear_model\\_ridge.py:157: LinAlgWarning: Ill-conditioned matrix (rcond=2.88346e-10): result may not be accurate.\n",
      "  return linalg.solve(A, Xy, sym_pos=True, overwrite_a=True).T\n",
      "C:\\Users\\jedik\\anaconda3\\lib\\site-packages\\sklearn\\linear_model\\_ridge.py:157: LinAlgWarning: Ill-conditioned matrix (rcond=3.18966e-10): result may not be accurate.\n",
      "  return linalg.solve(A, Xy, sym_pos=True, overwrite_a=True).T\n",
      "C:\\Users\\jedik\\anaconda3\\lib\\site-packages\\sklearn\\linear_model\\_ridge.py:157: LinAlgWarning: Ill-conditioned matrix (rcond=3.49665e-10): result may not be accurate.\n",
      "  return linalg.solve(A, Xy, sym_pos=True, overwrite_a=True).T\n",
      "C:\\Users\\jedik\\anaconda3\\lib\\site-packages\\sklearn\\linear_model\\_ridge.py:157: LinAlgWarning: Ill-conditioned matrix (rcond=3.80562e-10): result may not be accurate.\n",
      "  return linalg.solve(A, Xy, sym_pos=True, overwrite_a=True).T\n",
      "C:\\Users\\jedik\\anaconda3\\lib\\site-packages\\sklearn\\linear_model\\_ridge.py:157: LinAlgWarning: Ill-conditioned matrix (rcond=4.11455e-10): result may not be accurate.\n",
      "  return linalg.solve(A, Xy, sym_pos=True, overwrite_a=True).T\n",
      "C:\\Users\\jedik\\anaconda3\\lib\\site-packages\\sklearn\\linear_model\\_ridge.py:157: LinAlgWarning: Ill-conditioned matrix (rcond=3.84315e-10): result may not be accurate.\n",
      "  return linalg.solve(A, Xy, sym_pos=True, overwrite_a=True).T\n",
      "C:\\Users\\jedik\\anaconda3\\lib\\site-packages\\sklearn\\linear_model\\_ridge.py:157: LinAlgWarning: Ill-conditioned matrix (rcond=4.73546e-10): result may not be accurate.\n",
      "  return linalg.solve(A, Xy, sym_pos=True, overwrite_a=True).T\n",
      "C:\\Users\\jedik\\anaconda3\\lib\\site-packages\\sklearn\\linear_model\\_ridge.py:157: LinAlgWarning: Ill-conditioned matrix (rcond=5.0463e-10): result may not be accurate.\n",
      "  return linalg.solve(A, Xy, sym_pos=True, overwrite_a=True).T\n",
      "C:\\Users\\jedik\\anaconda3\\lib\\site-packages\\sklearn\\linear_model\\_ridge.py:157: LinAlgWarning: Ill-conditioned matrix (rcond=4.95502e-10): result may not be accurate.\n",
      "  return linalg.solve(A, Xy, sym_pos=True, overwrite_a=True).T\n",
      "C:\\Users\\jedik\\anaconda3\\lib\\site-packages\\sklearn\\linear_model\\_ridge.py:157: LinAlgWarning: Ill-conditioned matrix (rcond=5.67246e-10): result may not be accurate.\n",
      "  return linalg.solve(A, Xy, sym_pos=True, overwrite_a=True).T\n",
      "C:\\Users\\jedik\\anaconda3\\lib\\site-packages\\sklearn\\linear_model\\_ridge.py:157: LinAlgWarning: Ill-conditioned matrix (rcond=5.9863e-10): result may not be accurate.\n",
      "  return linalg.solve(A, Xy, sym_pos=True, overwrite_a=True).T\n"
     ]
    }
   ],
   "source": [
    "from sklearn.linear_model import Ridge\n",
    "\n",
    "def train_ridge_model(alphas, train_x, train_y, test_x, test_y) -> [Ridge, float]:\n",
    "    '''Train a ridge model that performs best given an array of alphas'''\n",
    "    import sys\n",
    "    model: Ridge\n",
    "    lowest_error = sys.float_info.max\n",
    "    max_accuracy = 0\n",
    "    for alpha in alphas:\n",
    "        test_model = Ridge(alpha=alpha)\n",
    "        test_model.fit(train_x, train_y)\n",
    "        predictions = test_model.predict(test_x)\n",
    "        accuracy = r2_score(test_y, predictions)\n",
    "        error = mean_absolute_error(test_y, predictions)\n",
    "        if (error < lowest_error):\n",
    "            max_accuracy = accuracy\n",
    "            model = test_model\n",
    "            lowest_error = error\n",
    "    return model, max_accuracy, lowest_error\n",
    "\n",
    "\n",
    "alphas = [0.5, 1, 5, 10, 15, 20, 25, 30, 35, 40, 45, 50]\n",
    "alphas.extend(range(55, 100, 5))\n",
    "ridge_model, ridge_accuracy, ridge_error = train_ridge_model(alphas, train_x, train_y, test_x, test_y)\n",
    "\n",
    "print(f\"Alpha chosen: {ridge_model.alpha}\")\n",
    "print(f\"Mean absolute error: {ridge_error}\")\n",
    "print(f\"Accuracy: {ridge_accuracy}\")"
   ]
  },
  {
   "cell_type": "markdown",
   "id": "c3314b2f",
   "metadata": {},
   "source": [
    "## Lasso Regression\n",
    "\n",
    "Build and predict using a lasso model"
   ]
  },
  {
   "cell_type": "code",
   "execution_count": 45,
   "id": "e7847017",
   "metadata": {},
   "outputs": [
    {
     "name": "stdout",
     "output_type": "stream",
     "text": [
      "Alpha chosen: 95\n",
      "Mean absolute error: 19533.552734375\n",
      "Accuracy: 0.8702666506999971\n"
     ]
    }
   ],
   "source": [
    "from sklearn.linear_model import Lasso\n",
    "\n",
    "def train_lasso_model(alphas, train_x, train_y, test_x, test_y) -> [Lasso, float]:\n",
    "    '''Train a lasso model that performs best given an array of alphas'''\n",
    "    import sys\n",
    "    model: Lasso\n",
    "    lowest_error = sys.float_info.max\n",
    "    max_accuracy = 0\n",
    "    for alpha in alphas:\n",
    "        test_model = Lasso(alpha=alpha)\n",
    "        test_model.fit(train_x, train_y)\n",
    "        predictions = test_model.predict(test_x)\n",
    "        accuracy = r2_score(test_y, predictions)\n",
    "        error = mean_absolute_error(test_y, predictions)\n",
    "        if (error < lowest_error):\n",
    "            max_accuracy = accuracy\n",
    "            model = test_model\n",
    "            lowest_error = error\n",
    "    return model, max_accuracy, lowest_error\n",
    "\n",
    "\n",
    "\n",
    "lasso_model, lasso_accuracy, lasso_error = train_lasso_model(alphas, train_x, train_y, test_x, test_y)\n",
    "\n",
    "print(f\"Alpha chosen: {lasso_model.alpha}\")\n",
    "print(f\"Mean absolute error: {lasso_error}\")\n",
    "print(f\"Accuracy: {lasso_accuracy}\")"
   ]
  },
  {
   "cell_type": "markdown",
   "id": "c23024ce",
   "metadata": {},
   "source": [
    "# Preprocessing data with Normalization"
   ]
  },
  {
   "cell_type": "code",
   "execution_count": 46,
   "id": "b839eefb",
   "metadata": {},
   "outputs": [],
   "source": [
    "scaler = MinMaxScaler()\n",
    "norm_train_x = scaler.fit_transform(train_x)\n",
    "norm_test_x = scaler.transform(test_x)"
   ]
  },
  {
   "cell_type": "code",
   "execution_count": 48,
   "id": "f3481f37",
   "metadata": {},
   "outputs": [
    {
     "name": "stdout",
     "output_type": "stream",
     "text": [
      "Mean absolute error = 19814.83984375\n",
      "Accuracy: 0.8689445274560954\n"
     ]
    }
   ],
   "source": [
    "# Create model\n",
    "norm_linear_regr_model = LinearRegression()\n",
    "\n",
    "# Train model\n",
    "norm_linear_regr_model.fit(norm_train_x, train_y)\n",
    "\n",
    "# Predict with model\n",
    "norm_linear_regr_pred = norm_linear_regr_model.predict(norm_test_x)\n",
    "\n",
    "# Calculate and print mean absolute error\n",
    "norm_linear_regr_error = mean_absolute_error(test_y, norm_linear_regr_pred)\n",
    "norm_linear_regr_accuracy = r2_score(test_y, norm_linear_regr_pred)\n",
    "print(f\"Mean absolute error = {norm_linear_regr_error}\")\n",
    "print(f\"Accuracy: {norm_linear_regr_accuracy}\")"
   ]
  },
  {
   "cell_type": "markdown",
   "id": "d9d48962",
   "metadata": {},
   "source": [
    "## Ridge Regression\n",
    "\n",
    "Build and predict using a ridge regression model"
   ]
  },
  {
   "cell_type": "code",
   "execution_count": 49,
   "id": "0fe7fb79",
   "metadata": {},
   "outputs": [
    {
     "name": "stdout",
     "output_type": "stream",
     "text": [
      "Alpha chosen: 5\n",
      "Mean absolute error: 19667.1171875\n",
      "Accuracy: 0.8638163862453215\n"
     ]
    }
   ],
   "source": [
    "norm_ridge_model, norm_ridge_accuracy, norm_ridge_error = train_ridge_model(alphas, norm_train_x, train_y, norm_test_x, test_y)\n",
    "\n",
    "print(f\"Alpha chosen: {norm_ridge_model.alpha}\")\n",
    "print(f\"Mean absolute error: {norm_ridge_error}\")\n",
    "print(f\"Accuracy: {norm_ridge_accuracy}\")"
   ]
  },
  {
   "cell_type": "markdown",
   "id": "ebffb4f5",
   "metadata": {},
   "source": [
    "## Lasso Regression\n",
    "\n",
    "Build and predict using a lasso model"
   ]
  },
  {
   "cell_type": "code",
   "execution_count": 50,
   "id": "f0c5a843",
   "metadata": {},
   "outputs": [
    {
     "name": "stderr",
     "output_type": "stream",
     "text": [
      "C:\\Users\\jedik\\anaconda3\\lib\\site-packages\\sklearn\\linear_model\\_coordinate_descent.py:647: ConvergenceWarning: Objective did not converge. You might want to increase the number of iterations, check the scale of the features or consider increasing regularisation. Duality gap: 8.100e+08, tolerance: 7.457e+08\n",
      "  model = cd_fast.enet_coordinate_descent(\n"
     ]
    },
    {
     "name": "stdout",
     "output_type": "stream",
     "text": [
      "Alpha chosen: 60\n",
      "Mean absolute error: 19382.205078125\n",
      "Accuracy: 0.8689522484117097\n"
     ]
    }
   ],
   "source": [
    "norm_lasso_model, norm_lasso_accuracy, norm_lasso_error = train_lasso_model(alphas, norm_train_x, train_y, norm_test_x, test_y)\n",
    "\n",
    "print(f\"Alpha chosen: {norm_lasso_model.alpha}\")\n",
    "print(f\"Mean absolute error: {norm_lasso_error}\")\n",
    "print(f\"Accuracy: {norm_lasso_accuracy}\")"
   ]
  },
  {
   "cell_type": "markdown",
   "id": "1110d54f",
   "metadata": {},
   "source": [
    "# Convolutional Neural Network"
   ]
  },
  {
   "cell_type": "code",
   "execution_count": 106,
   "id": "18b445ec",
   "metadata": {},
   "outputs": [],
   "source": [
    "class Model(nn.Module):\n",
    "    def __init__(self):\n",
    "        super(Model, self).__init__()\n",
    "        \n",
    "        self.layer1 = nn.Sequential(\n",
    "            nn.Conv1d(1, 16, kernel_size=3, padding=1),   # 78, 16\n",
    "            nn.ReLU(inplace=True), \n",
    "            nn.Conv1d(16, 16, kernel_size=3, padding=1),  \n",
    "            nn.ReLU(inplace=True),\n",
    "            nn.MaxPool1d(kernel_size=2, stride=2)         # 39, 16\n",
    "        )\n",
    "\n",
    "        self.layer2 = nn.Sequential(\n",
    "            nn.Conv1d(16, 32, kernel_size=3, padding=1),           \n",
    "            nn.ReLU(inplace=True),\n",
    "            nn.Conv1d(32, 32, kernel_size=3, padding=1),           \n",
    "            nn.ReLU(inplace=True),\n",
    "            nn.MaxPool1d(kernel_size=2, stride=2),          #19, 32       \n",
    "        )\n",
    "\n",
    "        self.layer3 = nn.Sequential(\n",
    "            nn.Conv1d(32, 64, kernel_size=3, padding=1),           \n",
    "            nn.ReLU(inplace=True),\n",
    "            nn.Conv1d(64, 64, kernel_size=3, padding=1),           \n",
    "            nn.ReLU(inplace=True),\n",
    "            nn.MaxPool1d(kernel_size=2, stride=2),                #9, 64\n",
    "        )\n",
    "        \n",
    "        self.layer4 = nn.Sequential(\n",
    "            nn.Conv1d(64, 128, kernel_size=3, padding=1),        \n",
    "            nn.ReLU(inplace=True),\n",
    "            nn.Conv1d(128, 128, kernel_size=3, padding=1),       \n",
    "            nn.ReLU(inplace=True),\n",
    "            nn.MaxPool1d(kernel_size=2, stride=2)              #4 128  \n",
    "        )\n",
    "        \n",
    "        self.fc = nn.Sequential(\n",
    "            nn.Linear(512, 128),                                  # 3 * 256 = 768\n",
    "            nn.ReLU(inplace=True),\n",
    "            nn.Dropout(p=0.5),\n",
    "            nn.Linear(128, 1),\n",
    "\n",
    "        )\n",
    "\n",
    "    def forward(self, x):\n",
    "        x = x.unsqueeze(1)\n",
    "        x = self.layer1(x)\n",
    "        x = self.layer2(x)\n",
    "        x = self.layer3(x)\n",
    "        x = self.layer4(x)\n",
    "        x = x.view(x.size(0), -1)\n",
    "        x = self.fc(x)\n",
    "        return x\n",
    " "
   ]
  },
  {
   "cell_type": "code",
   "execution_count": 107,
   "id": "fed8e26a",
   "metadata": {},
   "outputs": [],
   "source": [
    "class LoadDataset(Dataset):\n",
    "    def __init__(self, X, Y):\n",
    "        self.X = X\n",
    "        self.Y = Y\n",
    "\n",
    "    def __len__(self):\n",
    "        return self.X.shape[0]\n",
    "\n",
    "    def __getitem__(self, index):\n",
    "        dataX = torch.tensor(self.X[index]).type(torch.float)\n",
    "        dataY = torch.tensor(self.Y[index]).type(torch.float)\n",
    "\n",
    "        return (dataX, dataY)"
   ]
  },
  {
   "cell_type": "code",
   "execution_count": 112,
   "id": "be94d8ca",
   "metadata": {},
   "outputs": [],
   "source": [
    "train_data = LoadDataset(train_x, train_y)\n",
    "test_data = LoadDataset(test_x, test_y)\n",
    "train_loader = DataLoader(dataset=train_data, batch_size=100, shuffle=True, drop_last=True)\n",
    "test_loader = DataLoader(dataset=test_data, batch_size=100)\n",
    "model = Model()\n",
    "criterion = nn.MSELoss()\n",
    "optimizer = optim.Adam(model.parameters(), lr=0.0001)\n",
    "for epoch in range(30):\n",
    "    for batch_idx, (data, targets) in enumerate(train_loader):\n",
    "        data.requires_grad_()\n",
    "        scores = model(data)\n",
    "        scores = scores.view(targets.size())\n",
    "        loss = criterion(scores, targets)\n",
    "        optimizer.zero_grad()\n",
    "        loss.backward()\n",
    "        optimizer.step()"
   ]
  },
  {
   "cell_type": "code",
   "execution_count": 113,
   "id": "3136efbe",
   "metadata": {},
   "outputs": [
    {
     "name": "stdout",
     "output_type": "stream",
     "text": [
      "0.35367403124561453\n",
      "34958.236979166664\n"
     ]
    }
   ],
   "source": [
    "running_accuracy = 0\n",
    "running_MAE = 0\n",
    "num_batches = 0\n",
    "model.eval()\n",
    "criterion = nn.L1Loss()\n",
    "with torch.no_grad():\n",
    "    for batch_idx, (data, targets) in enumerate(test_loader):\n",
    "        # forward\n",
    "        scores = model(data)\n",
    "        scores = scores.view(targets.size()) \n",
    "        accuracy = metrics.r2_score(targets, scores)\n",
    "        running_accuracy += accuracy.item()\n",
    "        MAE = criterion(scores, targets)\n",
    "        running_MAE += MAE.item()\n",
    "        num_batches+=1\n",
    "accuracy_final = running_accuracy/num_batches\n",
    "MAE_final = running_MAE/num_batches\n",
    "print(accuracy_final)\n",
    "print(MAE_final)"
   ]
  },
  {
   "cell_type": "code",
   "execution_count": null,
   "id": "7e6992cd",
   "metadata": {},
   "outputs": [],
   "source": []
  }
 ],
 "metadata": {
  "kernelspec": {
   "display_name": "Python 3 (ipykernel)",
   "language": "python",
   "name": "python3"
  },
  "language_info": {
   "codemirror_mode": {
    "name": "ipython",
    "version": 3
   },
   "file_extension": ".py",
   "mimetype": "text/x-python",
   "name": "python",
   "nbconvert_exporter": "python",
   "pygments_lexer": "ipython3",
   "version": "3.9.9"
  }
 },
 "nbformat": 4,
 "nbformat_minor": 5
}
