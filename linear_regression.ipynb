{
 "cells": [
  {
   "cell_type": "code",
   "execution_count": 2,
   "metadata": {},
   "outputs": [],
   "source": [
    "from data_unpacker import unpack_data\n",
    "import pandas as pd\n",
    "\n",
    "all_data = unpack_data('data/train.csv')\n",
    "\n",
    "# Use two thirds of data to train\n",
    "targets = all_data.SalePrice\n",
    "train_data = all_data[0:1094]\n",
    "train_data = train_data.drop('SalePrice', axis=1)\n",
    "train_targets = targets[0:1094]\n",
    "test_data = all_data[1095:1459]\n",
    "test_data = test_data.drop('SalePrice', axis=1)\n",
    "test_targets = targets[1095:1459]"
   ]
  },
  {
   "cell_type": "markdown",
   "id": "7c2c32b9",
   "metadata": {},
   "source": [
    "# Linear Regression\n",
    "\n",
    "Build and predict on a basic linear model"
   ]
  },
  {
   "cell_type": "code",
   "execution_count": 5,
   "id": "81c67b34",
   "metadata": {},
   "outputs": [
    {
     "name": "stdout",
     "output_type": "stream",
     "text": [
      "Mean squared error = 1878038617.8595061\n"
     ]
    }
   ],
   "source": [
    "from sklearn.linear_model import LinearRegression\n",
    "from sklearn.metrics import mean_squared_error\n",
    "\n",
    "# Create model\n",
    "linear_regr_model = LinearRegression()\n",
    "\n",
    "# Train model\n",
    "linear_regr_model.fit(train_data, train_targets)\n",
    "\n",
    "# Predict with model\n",
    "linear_regr_pred = linear_regr_model.predict(test_data)\n",
    "\n",
    "# Calculate and print mean squared error\n",
    "linear_regr_error = mean_squared_error(test_targets, linear_regr_pred)\n",
    "print(f\"Mean squared error = {linear_regr_error}\")\n"
   ]
  },
  {
   "cell_type": "markdown",
   "id": "77d7ec68",
   "metadata": {},
   "source": [
    "# Ridge Regression\n",
    "\n",
    "Build and predict using a ridge regression model"
   ]
  },
  {
   "cell_type": "code",
   "execution_count": 14,
   "id": "0841c57e",
   "metadata": {},
   "outputs": [
    {
     "name": "stdout",
     "output_type": "stream",
     "text": [
      "Alpha chosen: 10\n",
      "Mean squared error: 1615694896.4702525\n"
     ]
    }
   ],
   "source": [
    "from sklearn.linear_model import Ridge\n",
    "\n",
    "def train_ridge_model(alphas, train_data, train_targets, test_data, test_targets) -> [Ridge, float]:\n",
    "    '''Train a ridge model that performs best given an array of alphas'''\n",
    "    import sys\n",
    "    model: Ridge\n",
    "    lowest_error = sys.float_info.max\n",
    "    for alpha in alphas:\n",
    "        test_model = Ridge(alpha=alpha)\n",
    "        test_model.fit(train_data, train_targets)\n",
    "        predictions = test_model.predict(test_data)\n",
    "        error = mean_squared_error(test_targets, predictions)\n",
    "        if (error < lowest_error):\n",
    "            lowest_error = error\n",
    "            model = test_model\n",
    "    return model, lowest_error\n",
    "\n",
    "\n",
    "alphas = [0.5, 1, 5, 10, 15, 20, 25, 30, 35, 40, 45, 50]\n",
    "ridge_model, ridge_error = train_ridge_model(alphas, train_data, train_targets, test_data, test_targets)\n",
    "\n",
    "print(f\"Alpha chosen: {ridge_model.alpha}\")\n",
    "print(f\"Mean squared error: {ridge_error}\")"
   ]
  },
  {
   "cell_type": "markdown",
   "id": "3d11275e",
   "metadata": {},
   "source": [
    "# Lasso Regression\n",
    "\n",
    "Build and predict using a lasso model"
   ]
  },
  {
   "cell_type": "code",
   "execution_count": 15,
   "id": "3a402fb1",
   "metadata": {},
   "outputs": [
    {
     "name": "stderr",
     "output_type": "stream",
     "text": [
      "C:\\Users\\jedik\\anaconda3\\lib\\site-packages\\sklearn\\linear_model\\_coordinate_descent.py:647: ConvergenceWarning: Objective did not converge. You might want to increase the number of iterations, check the scale of the features or consider increasing regularisation. Duality gap: 2.285e+11, tolerance: 6.951e+08\n",
      "  model = cd_fast.enet_coordinate_descent(\n",
      "C:\\Users\\jedik\\anaconda3\\lib\\site-packages\\sklearn\\linear_model\\_coordinate_descent.py:647: ConvergenceWarning: Objective did not converge. You might want to increase the number of iterations, check the scale of the features or consider increasing regularisation. Duality gap: 2.285e+11, tolerance: 6.951e+08\n",
      "  model = cd_fast.enet_coordinate_descent(\n",
      "C:\\Users\\jedik\\anaconda3\\lib\\site-packages\\sklearn\\linear_model\\_coordinate_descent.py:647: ConvergenceWarning: Objective did not converge. You might want to increase the number of iterations, check the scale of the features or consider increasing regularisation. Duality gap: 1.893e+09, tolerance: 6.951e+08\n",
      "  model = cd_fast.enet_coordinate_descent(\n"
     ]
    },
    {
     "name": "stdout",
     "output_type": "stream",
     "text": [
      "Alpha chosen: 60\n",
      "Mean squared error: 1592940887.6141257\n"
     ]
    }
   ],
   "source": [
    "from sklearn.linear_model import Lasso\n",
    "\n",
    "def train_lasso_model(alphas, train_data, train_targets, test_data, test_targets) -> [Lasso, float]:\n",
    "    '''Train a lasso model that performs best given an array of alphas'''\n",
    "    import sys\n",
    "    model: Lasso\n",
    "    lowest_error = sys.float_info.max\n",
    "    for alpha in alphas:\n",
    "        test_model = Lasso(alpha=alpha)\n",
    "        test_model.fit(train_data, train_targets)\n",
    "        predictions = test_model.predict(test_data)\n",
    "        error = mean_squared_error(test_targets, predictions)\n",
    "        if (error < lowest_error):\n",
    "            lowest_error = error\n",
    "            model = test_model\n",
    "    return model, lowest_error\n",
    "\n",
    "\n",
    "alphas.extend(range(55, 100, 5))\n",
    "lasso_model, lasso_error = train_lasso_model(alphas, train_data, train_targets, test_data, test_targets)\n",
    "\n",
    "print(f\"Alpha chosen: {lasso_model.alpha}\")\n",
    "print(f\"Mean squared error: {lasso_error}\")"
   ]
  }
 ],
 "metadata": {
  "kernelspec": {
   "display_name": "Python 3 (ipykernel)",
   "language": "python",
   "name": "python3"
  },
  "language_info": {
   "codemirror_mode": {
    "name": "ipython",
    "version": 3
   },
   "file_extension": ".py",
   "mimetype": "text/x-python",
   "name": "python",
   "nbconvert_exporter": "python",
   "pygments_lexer": "ipython3",
   "version": "3.9.13"
  }
 },
 "nbformat": 4,
 "nbformat_minor": 5
}
