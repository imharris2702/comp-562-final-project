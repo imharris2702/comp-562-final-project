{
 "cells": [
  {
   "cell_type": "markdown",
   "id": "6751873e",
   "metadata": {},
   "source": [
    "# Linear Regression Models with no Preprocessing"
   ]
  },
  {
   "cell_type": "code",
   "execution_count": 1,
   "metadata": {},
   "outputs": [],
   "source": [
    "from data_unpacker import unpack_data\n",
    "import pandas as pd\n",
    "\n",
    "all_data = unpack_data('data/train.csv')\n",
    "\n",
    "# Use two thirds of data to train\n",
    "targets = all_data.SalePrice\n",
    "train_data = all_data[0:1094]\n",
    "train_data = train_data.drop('SalePrice', axis=1)\n",
    "train_data = train_data.drop('Id', axis=1)\n",
    "train_targets = targets[0:1094]\n",
    "test_data = all_data[1095:1459]\n",
    "test_data = test_data.drop('SalePrice', axis=1)\n",
    "test_data = test_data.drop('Id', axis=1)\n",
    "test_targets = targets[1095:1459]"
   ]
  },
  {
   "cell_type": "markdown",
   "id": "7c2c32b9",
   "metadata": {},
   "source": [
    "## Linear Regression\n",
    "\n",
    "Build and predict on a basic linear model"
   ]
  },
  {
   "cell_type": "code",
   "execution_count": 2,
   "id": "81c67b34",
   "metadata": {},
   "outputs": [
    {
     "name": "stdout",
     "output_type": "stream",
     "text": [
      "Mean squared error = 1859607927.330847\n"
     ]
    }
   ],
   "source": [
    "from sklearn.linear_model import LinearRegression\n",
    "from sklearn.metrics import mean_squared_error\n",
    "\n",
    "# Create model\n",
    "linear_regr_model = LinearRegression()\n",
    "\n",
    "# Train model\n",
    "linear_regr_model.fit(train_data, train_targets)\n",
    "\n",
    "# Predict with model\n",
    "linear_regr_pred = linear_regr_model.predict(test_data)\n",
    "\n",
    "# Calculate and print mean squared error\n",
    "linear_regr_error = mean_squared_error(test_targets, linear_regr_pred)\n",
    "print(f\"Mean squared error = {linear_regr_error}\")\n"
   ]
  },
  {
   "cell_type": "markdown",
   "id": "77d7ec68",
   "metadata": {},
   "source": [
    "## Ridge Regression\n",
    "\n",
    "Build and predict using a ridge regression model"
   ]
  },
  {
   "cell_type": "code",
   "execution_count": 3,
   "id": "0841c57e",
   "metadata": {},
   "outputs": [
    {
     "name": "stdout",
     "output_type": "stream",
     "text": [
      "Alpha chosen: 10\n",
      "Mean squared error: 1608511231.0750628\n"
     ]
    }
   ],
   "source": [
    "from sklearn.linear_model import Ridge\n",
    "\n",
    "def train_ridge_model(alphas, train_data, train_targets, test_data, test_targets) -> [Ridge, float]:\n",
    "    '''Train a ridge model that performs best given an array of alphas'''\n",
    "    import sys\n",
    "    model: Ridge\n",
    "    lowest_error = sys.float_info.max\n",
    "    for alpha in alphas:\n",
    "        test_model = Ridge(alpha=alpha)\n",
    "        test_model.fit(train_data, train_targets)\n",
    "        predictions = test_model.predict(test_data)\n",
    "        error = mean_squared_error(test_targets, predictions)\n",
    "        if (error < lowest_error):\n",
    "            lowest_error = error\n",
    "            model = test_model\n",
    "    return model, lowest_error\n",
    "\n",
    "\n",
    "alphas = [0.5, 1, 5, 10, 15, 20, 25, 30, 35, 40, 45, 50]\n",
    "ridge_model, ridge_error = train_ridge_model(alphas, train_data, train_targets, test_data, test_targets)\n",
    "\n",
    "print(f\"Alpha chosen: {ridge_model.alpha}\")\n",
    "print(f\"Mean squared error: {ridge_error}\")"
   ]
  },
  {
   "cell_type": "markdown",
   "id": "3d11275e",
   "metadata": {},
   "source": [
    "## Lasso Regression\n",
    "\n",
    "Build and predict using a lasso model"
   ]
  },
  {
   "cell_type": "code",
   "execution_count": 4,
   "id": "3a402fb1",
   "metadata": {},
   "outputs": [
    {
     "name": "stderr",
     "output_type": "stream",
     "text": [
      "C:\\Users\\jedik\\anaconda3\\lib\\site-packages\\sklearn\\linear_model\\_coordinate_descent.py:647: ConvergenceWarning: Objective did not converge. You might want to increase the number of iterations, check the scale of the features or consider increasing regularisation. Duality gap: 2.289e+11, tolerance: 6.951e+08\n",
      "  model = cd_fast.enet_coordinate_descent(\n",
      "C:\\Users\\jedik\\anaconda3\\lib\\site-packages\\sklearn\\linear_model\\_coordinate_descent.py:647: ConvergenceWarning: Objective did not converge. You might want to increase the number of iterations, check the scale of the features or consider increasing regularisation. Duality gap: 2.283e+11, tolerance: 6.951e+08\n",
      "  model = cd_fast.enet_coordinate_descent(\n",
      "C:\\Users\\jedik\\anaconda3\\lib\\site-packages\\sklearn\\linear_model\\_coordinate_descent.py:647: ConvergenceWarning: Objective did not converge. You might want to increase the number of iterations, check the scale of the features or consider increasing regularisation. Duality gap: 4.126e+10, tolerance: 6.951e+08\n",
      "  model = cd_fast.enet_coordinate_descent(\n",
      "C:\\Users\\jedik\\anaconda3\\lib\\site-packages\\sklearn\\linear_model\\_coordinate_descent.py:647: ConvergenceWarning: Objective did not converge. You might want to increase the number of iterations, check the scale of the features or consider increasing regularisation. Duality gap: 2.679e+09, tolerance: 6.951e+08\n",
      "  model = cd_fast.enet_coordinate_descent(\n"
     ]
    },
    {
     "name": "stdout",
     "output_type": "stream",
     "text": [
      "Alpha chosen: 60\n",
      "Mean squared error: 1582802242.0152326\n"
     ]
    }
   ],
   "source": [
    "from sklearn.linear_model import Lasso\n",
    "\n",
    "def train_lasso_model(alphas, train_data, train_targets, test_data, test_targets) -> [Lasso, float]:\n",
    "    '''Train a lasso model that performs best given an array of alphas'''\n",
    "    import sys\n",
    "    model: Lasso\n",
    "    lowest_error = sys.float_info.max\n",
    "    for alpha in alphas:\n",
    "        test_model = Lasso(alpha=alpha)\n",
    "        test_model.fit(train_data, train_targets)\n",
    "        predictions = test_model.predict(test_data)\n",
    "        error = mean_squared_error(test_targets, predictions)\n",
    "        if (error < lowest_error):\n",
    "            lowest_error = error\n",
    "            model = test_model\n",
    "    return model, lowest_error\n",
    "\n",
    "\n",
    "alphas.extend(range(55, 100, 5))\n",
    "lasso_model, lasso_error = train_lasso_model(alphas, train_data, train_targets, test_data, test_targets)\n",
    "\n",
    "print(f\"Alpha chosen: {lasso_model.alpha}\")\n",
    "print(f\"Mean squared error: {lasso_error}\")"
   ]
  },
  {
   "cell_type": "markdown",
   "id": "f20f11c4",
   "metadata": {},
   "source": [
    "# Linear Regression Models with Normalization"
   ]
  },
  {
   "cell_type": "code",
   "execution_count": 5,
   "id": "66171e42",
   "metadata": {},
   "outputs": [],
   "source": [
    "normalized_data = unpack_data('data/train.csv', preprocess=True)\n",
    "\n",
    "# Use two thirds of data to train\n",
    "norm_targets = normalized_data.SalePrice\n",
    "norm_train_data = normalized_data[0:1094]\n",
    "norm_train_data = norm_train_data.drop('SalePrice', axis=1)\n",
    "norm_train_data = norm_train_data.drop('Id', axis=1)\n",
    "norm_train_targets = norm_targets[0:1094]\n",
    "norm_test_data = normalized_data[1095:1459]\n",
    "norm_test_data = norm_test_data.drop('SalePrice', axis=1)\n",
    "norm_test_data = norm_test_data.drop('Id', axis=1)\n",
    "norm_test_targets = norm_targets[1095:1459]"
   ]
  },
  {
   "cell_type": "markdown",
   "id": "a1f2dce0",
   "metadata": {},
   "source": [
    "## Linear Regression\n",
    "\n",
    "Build and predict on a basic linear model"
   ]
  },
  {
   "cell_type": "code",
   "execution_count": 6,
   "id": "1d7fd496",
   "metadata": {},
   "outputs": [
    {
     "name": "stdout",
     "output_type": "stream",
     "text": [
      "Mean squared error = 2269343.288339153\n"
     ]
    }
   ],
   "source": [
    "# Create model\n",
    "norm_linear_regr_model = LinearRegression()\n",
    "\n",
    "# Train model\n",
    "norm_linear_regr_model.fit(norm_train_data, norm_train_targets)\n",
    "\n",
    "# Predict with model\n",
    "norm_linear_regr_pred = norm_linear_regr_model.predict(test_data)\n",
    "\n",
    "# Calculate and print mean squared error\n",
    "norm_linear_regr_error = mean_squared_error(norm_test_targets, norm_linear_regr_pred)\n",
    "print(f\"Mean squared error = {norm_linear_regr_error}\")\n"
   ]
  },
  {
   "cell_type": "markdown",
   "id": "f18c27da",
   "metadata": {},
   "source": [
    "## Ridge Regression\n",
    "\n",
    "Build and predict using a ridge regression model"
   ]
  },
  {
   "cell_type": "code",
   "execution_count": 7,
   "id": "d2c1c55b",
   "metadata": {},
   "outputs": [
    {
     "name": "stdout",
     "output_type": "stream",
     "text": [
      "Alpha chosen: 0.5\n",
      "Mean squared error: 1.5690554966057596e-05\n"
     ]
    }
   ],
   "source": [
    "norm_ridge_model, norm_ridge_error = train_ridge_model(alphas, norm_train_data, norm_train_targets, norm_test_data, norm_test_targets)\n",
    "\n",
    "print(f\"Alpha chosen: {norm_ridge_model.alpha}\")\n",
    "print(f\"Mean squared error: {norm_ridge_error}\")"
   ]
  },
  {
   "cell_type": "markdown",
   "id": "5b6655bb",
   "metadata": {},
   "source": [
    "## Lasso Regression\n",
    "\n",
    "Build and predict using a lasso model"
   ]
  },
  {
   "cell_type": "code",
   "execution_count": 8,
   "id": "7ef63b7c",
   "metadata": {},
   "outputs": [
    {
     "name": "stdout",
     "output_type": "stream",
     "text": [
      "Alpha chosen: 0.5\n",
      "Mean squared error: 3.001891143106693e-05\n"
     ]
    }
   ],
   "source": [
    "norm_lasso_model, norm_lasso_error = train_lasso_model(alphas, norm_train_data, norm_train_targets, norm_test_data, norm_test_targets)\n",
    "\n",
    "print(f\"Alpha chosen: {norm_lasso_model.alpha}\")\n",
    "print(f\"Mean squared error: {norm_lasso_error}\")"
   ]
  }
 ],
 "metadata": {
  "kernelspec": {
   "display_name": "Python 3 (ipykernel)",
   "language": "python",
   "name": "python3"
  },
  "language_info": {
   "codemirror_mode": {
    "name": "ipython",
    "version": 3
   },
   "file_extension": ".py",
   "mimetype": "text/x-python",
   "name": "python",
   "nbconvert_exporter": "python",
   "pygments_lexer": "ipython3",
   "version": "3.9.13"
  }
 },
 "nbformat": 4,
 "nbformat_minor": 5
}
